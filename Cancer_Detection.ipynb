{
  "cells": [
    {
      "cell_type": "code",
      "execution_count": null,
      "metadata": {
        "id": "CO3fHIS4e1rC"
      },
      "outputs": [],
      "source": [
        "import os\n",
        "import zipfile\n",
        "import shutil\n",
        "import cv2\n",
        "import numpy as np\n",
        "import tensorflow as tf\n",
        "import matplotlib.pyplot as plt\n",
        "from skimage import io\n",
        "from skimage.color import rgb2gray\n",
        "import random\n",
        "from sklearn.utils import shuffle\n",
        "from sklearn.preprocessing import LabelEncoder\n",
        "from sklearn.preprocessing import OneHotEncoder\n",
        "from google.colab.patches import cv2_imshow\n",
        "from tensorflow.keras import  layers, models\n",
        "from tensorflow.keras.preprocessing.image import ImageDataGenerator\n",
        "from tensorflow.keras.models import Sequential, Model\n",
        "from keras.applications import resnet\n",
        "from tensorflow.keras.applications import ResNet50\n",
        "from tensorflow.keras.applications.vgg16 import VGG16\n",
        "from tensorflow.keras.applications.inception_v3 import InceptionV3\n",
        "from tensorflow.keras.optimizers import SGD, Adam, RMSprop\n",
        "from tensorflow.keras.applications.resnet import preprocess_input\n",
        "from tensorflow.keras.callbacks import EarlyStopping, ModelCheckpoint\n",
        "from tensorflow.keras.layers import Conv2D, MaxPool2D, Flatten, Dense, Dropout, BatchNormalization"
      ]
    },
    {
      "cell_type": "code",
      "source": [
        "BATCH_SIZE = 32\n",
        "EPOCHS = 50\n",
        "SEED = 49\n",
        "H = 300\n",
        "W = 400\n",
        "IMAGE_SHAPE = (360,360,3)\n",
        "N_CLASSES = 4\n",
        "STEPS = 50"
      ],
      "metadata": {
        "id": "e1sKAoEKwYVu"
      },
      "execution_count": null,
      "outputs": []
    },
    {
      "cell_type": "code",
      "execution_count": null,
      "metadata": {
        "colab": {
          "base_uri": "https://localhost:8080/"
        },
        "id": "NX4-FLPJ3YyL",
        "outputId": "b6981678-d0d9-4cf7-da9b-eb938f615747"
      },
      "outputs": [
        {
          "output_type": "stream",
          "name": "stdout",
          "text": [
            "Found 670 images belonging to 4 classes.\n",
            "Found 285 images belonging to 4 classes.\n"
          ]
        }
      ],
      "source": [
        "train_data_gen = ImageDataGenerator(rescale=1/255)\n",
        "valid_data_gen = ImageDataGenerator(rescale=1/255)\n",
        "\n",
        "train_gen = train_data_gen.flow_from_directory(\n",
        "    '/content/drive/MyDrive/Datasets/Chest_CTscan/train',\n",
        "    target_size = (360,360),\n",
        "    batch_size = BATCH_SIZE,\n",
        "    class_mode = 'categorical'\n",
        ")\n",
        "\n",
        "valid_gen = valid_data_gen.flow_from_directory(\n",
        "    '/content/drive/MyDrive/Datasets/Chest_CTscan/test',\n",
        "    target_size = (360,360),\n",
        "    batch_size = BATCH_SIZE,\n",
        "    class_mode = 'categorical'\n",
        ")"
      ]
    },
    {
      "cell_type": "code",
      "source": [
        "res_model = ResNet50(include_top=False, \n",
        "                         pooling='avg', \n",
        "                         weights='imagenet', \n",
        "                         input_shape = (IMAGE_SHAPE))\n",
        "\n",
        "for layer in res_model.layers:\n",
        "    if 'conv5' not in layer.name:\n",
        "        layer.trainable = False\n",
        "\n",
        "resnet_model = Sequential()\n",
        "resnet_model.add(res_model)\n",
        "resnet_model.add(Dropout(0.4))\n",
        "resnet_model.add(Flatten())\n",
        "resnet_model.add(BatchNormalization())\n",
        "resnet_model.add(Dropout(0.4))\n",
        "resnet_model.add(Dense(N_CLASSES, activation='softmax'))\n",
        "resnet_model.summary()\n",
        "\n",
        "adam_opt = tf.keras.optimizers.Adam(learning_rate= 0.00001)\n",
        "\n",
        "resnet_model.compile(optimizer = adam_opt, \n",
        "                      loss='categorical_crossentropy',\n",
        "                      metrics=['accuracy'])"
      ],
      "metadata": {
        "colab": {
          "base_uri": "https://localhost:8080/"
        },
        "id": "dscS2xvLlltg",
        "outputId": "6a4f9ca4-3bd5-4631-f9c5-a92b23812c7d"
      },
      "execution_count": null,
      "outputs": [
        {
          "output_type": "stream",
          "name": "stdout",
          "text": [
            "Model: \"sequential_2\"\n",
            "_________________________________________________________________\n",
            " Layer (type)                Output Shape              Param #   \n",
            "=================================================================\n",
            " resnet50 (Functional)       (None, 2048)              23587712  \n",
            "                                                                 \n",
            " dropout_4 (Dropout)         (None, 2048)              0         \n",
            "                                                                 \n",
            " flatten_2 (Flatten)         (None, 2048)              0         \n",
            "                                                                 \n",
            " batch_normalization_2 (Batc  (None, 2048)             8192      \n",
            " hNormalization)                                                 \n",
            "                                                                 \n",
            " dropout_5 (Dropout)         (None, 2048)              0         \n",
            "                                                                 \n",
            " dense_2 (Dense)             (None, 4)                 8196      \n",
            "                                                                 \n",
            "=================================================================\n",
            "Total params: 23,604,100\n",
            "Trainable params: 14,988,292\n",
            "Non-trainable params: 8,615,808\n",
            "_________________________________________________________________\n"
          ]
        }
      ]
    },
    {
      "cell_type": "code",
      "source": [
        "checkpoint = ModelCheckpoint(filepath='./transfer_model.hdf5', \n",
        "                               monitor='val_loss', \n",
        "                               verbose = 1,\n",
        "                               save_best_only=True)\n",
        "\n",
        "#early_stopping = EarlyStopping(verbose=1, patience=6)\n",
        "\n",
        "model_history = resnet_model.fit(train_gen,\n",
        "                               epochs = EPOCHS,\n",
        "                               verbose = 1,\n",
        "                               validation_data = valid_gen,\n",
        "                               callbacks = [checkpoint])"
      ],
      "metadata": {
        "colab": {
          "base_uri": "https://localhost:8080/"
        },
        "id": "4-O9CxQNxZY-",
        "outputId": "735d11cf-1b69-4025-b8b9-c59990dcd27b"
      },
      "execution_count": null,
      "outputs": [
        {
          "output_type": "stream",
          "name": "stdout",
          "text": [
            "Epoch 1/50\n",
            "21/21 [==============================] - ETA: 0s - loss: 0.3941 - accuracy: 0.8448\n",
            "Epoch 1: val_loss improved from inf to 1.95976, saving model to ./transfer_model.hdf5\n",
            "21/21 [==============================] - 14s 646ms/step - loss: 0.3941 - accuracy: 0.8448 - val_loss: 1.9598 - val_accuracy: 0.4722\n",
            "Epoch 2/50\n",
            "21/21 [==============================] - ETA: 0s - loss: 0.3924 - accuracy: 0.8537\n",
            "Epoch 2: val_loss did not improve from 1.95976\n",
            "21/21 [==============================] - 14s 655ms/step - loss: 0.3924 - accuracy: 0.8537 - val_loss: 2.1161 - val_accuracy: 0.4861\n",
            "Epoch 3/50\n",
            "21/21 [==============================] - ETA: 0s - loss: 0.3773 - accuracy: 0.8478\n",
            "Epoch 3: val_loss improved from 1.95976 to 1.29800, saving model to ./transfer_model.hdf5\n",
            "21/21 [==============================] - 14s 647ms/step - loss: 0.3773 - accuracy: 0.8478 - val_loss: 1.2980 - val_accuracy: 0.5417\n",
            "Epoch 4/50\n",
            "21/21 [==============================] - ETA: 0s - loss: 0.3100 - accuracy: 0.8776\n",
            "Epoch 4: val_loss did not improve from 1.29800\n",
            "21/21 [==============================] - 13s 612ms/step - loss: 0.3100 - accuracy: 0.8776 - val_loss: 1.9631 - val_accuracy: 0.5000\n",
            "Epoch 5/50\n",
            "21/21 [==============================] - ETA: 0s - loss: 0.2863 - accuracy: 0.8910\n",
            "Epoch 5: val_loss did not improve from 1.29800\n",
            "21/21 [==============================] - 13s 612ms/step - loss: 0.2863 - accuracy: 0.8910 - val_loss: 2.1119 - val_accuracy: 0.5000\n",
            "Epoch 6/50\n",
            "21/21 [==============================] - ETA: 0s - loss: 0.3034 - accuracy: 0.8746\n",
            "Epoch 6: val_loss did not improve from 1.29800\n",
            "21/21 [==============================] - 14s 665ms/step - loss: 0.3034 - accuracy: 0.8746 - val_loss: 1.5728 - val_accuracy: 0.5000\n",
            "Epoch 7/50\n",
            "21/21 [==============================] - ETA: 0s - loss: 0.2810 - accuracy: 0.8985\n",
            "Epoch 7: val_loss did not improve from 1.29800\n",
            "21/21 [==============================] - 13s 615ms/step - loss: 0.2810 - accuracy: 0.8985 - val_loss: 1.8686 - val_accuracy: 0.5000\n",
            "Epoch 8/50\n",
            "21/21 [==============================] - ETA: 0s - loss: 0.2735 - accuracy: 0.8881\n",
            "Epoch 8: val_loss improved from 1.29800 to 1.00545, saving model to ./transfer_model.hdf5\n",
            "21/21 [==============================] - 15s 706ms/step - loss: 0.2735 - accuracy: 0.8881 - val_loss: 1.0054 - val_accuracy: 0.6250\n",
            "Epoch 9/50\n",
            "21/21 [==============================] - ETA: 0s - loss: 0.2352 - accuracy: 0.9179\n",
            "Epoch 9: val_loss improved from 1.00545 to 0.76970, saving model to ./transfer_model.hdf5\n",
            "21/21 [==============================] - 14s 647ms/step - loss: 0.2352 - accuracy: 0.9179 - val_loss: 0.7697 - val_accuracy: 0.6667\n",
            "Epoch 10/50\n",
            "21/21 [==============================] - ETA: 0s - loss: 0.2571 - accuracy: 0.9209\n",
            "Epoch 10: val_loss improved from 0.76970 to 0.56654, saving model to ./transfer_model.hdf5\n",
            "21/21 [==============================] - 14s 658ms/step - loss: 0.2571 - accuracy: 0.9209 - val_loss: 0.5665 - val_accuracy: 0.7778\n",
            "Epoch 11/50\n",
            "21/21 [==============================] - ETA: 0s - loss: 0.2058 - accuracy: 0.9209\n",
            "Epoch 11: val_loss did not improve from 0.56654\n",
            "21/21 [==============================] - 13s 615ms/step - loss: 0.2058 - accuracy: 0.9209 - val_loss: 0.6093 - val_accuracy: 0.7500\n",
            "Epoch 12/50\n",
            "21/21 [==============================] - ETA: 0s - loss: 0.2097 - accuracy: 0.9179\n",
            "Epoch 12: val_loss did not improve from 0.56654\n",
            "21/21 [==============================] - 13s 618ms/step - loss: 0.2097 - accuracy: 0.9179 - val_loss: 1.0695 - val_accuracy: 0.6250\n",
            "Epoch 13/50\n",
            "21/21 [==============================] - ETA: 0s - loss: 0.1889 - accuracy: 0.9313\n",
            "Epoch 13: val_loss did not improve from 0.56654\n",
            "21/21 [==============================] - 13s 620ms/step - loss: 0.1889 - accuracy: 0.9313 - val_loss: 1.2941 - val_accuracy: 0.6528\n",
            "Epoch 14/50\n",
            "21/21 [==============================] - ETA: 0s - loss: 0.1715 - accuracy: 0.9433\n",
            "Epoch 14: val_loss improved from 0.56654 to 0.56214, saving model to ./transfer_model.hdf5\n",
            "21/21 [==============================] - 14s 664ms/step - loss: 0.1715 - accuracy: 0.9433 - val_loss: 0.5621 - val_accuracy: 0.7778\n",
            "Epoch 15/50\n",
            "21/21 [==============================] - ETA: 0s - loss: 0.1502 - accuracy: 0.9537\n",
            "Epoch 15: val_loss did not improve from 0.56214\n",
            "21/21 [==============================] - 13s 621ms/step - loss: 0.1502 - accuracy: 0.9537 - val_loss: 0.9054 - val_accuracy: 0.7639\n",
            "Epoch 16/50\n",
            "21/21 [==============================] - ETA: 0s - loss: 0.1408 - accuracy: 0.9463\n",
            "Epoch 16: val_loss did not improve from 0.56214\n",
            "21/21 [==============================] - 13s 626ms/step - loss: 0.1408 - accuracy: 0.9463 - val_loss: 1.0576 - val_accuracy: 0.6806\n",
            "Epoch 17/50\n",
            "21/21 [==============================] - ETA: 0s - loss: 0.1106 - accuracy: 0.9657\n",
            "Epoch 17: val_loss did not improve from 0.56214\n",
            "21/21 [==============================] - 13s 628ms/step - loss: 0.1106 - accuracy: 0.9657 - val_loss: 0.6352 - val_accuracy: 0.7639\n",
            "Epoch 18/50\n",
            "21/21 [==============================] - ETA: 0s - loss: 0.1174 - accuracy: 0.9582\n",
            "Epoch 18: val_loss did not improve from 0.56214\n",
            "21/21 [==============================] - 13s 622ms/step - loss: 0.1174 - accuracy: 0.9582 - val_loss: 0.6743 - val_accuracy: 0.7361\n",
            "Epoch 19/50\n",
            "21/21 [==============================] - ETA: 0s - loss: 0.1046 - accuracy: 0.9642\n",
            "Epoch 19: val_loss improved from 0.56214 to 0.56004, saving model to ./transfer_model.hdf5\n",
            "21/21 [==============================] - 15s 713ms/step - loss: 0.1046 - accuracy: 0.9642 - val_loss: 0.5600 - val_accuracy: 0.7778\n",
            "Epoch 20/50\n",
            "21/21 [==============================] - ETA: 0s - loss: 0.0942 - accuracy: 0.9627\n",
            "Epoch 20: val_loss did not improve from 0.56004\n",
            "21/21 [==============================] - 13s 622ms/step - loss: 0.0942 - accuracy: 0.9627 - val_loss: 0.6654 - val_accuracy: 0.7917\n",
            "Epoch 21/50\n",
            "21/21 [==============================] - ETA: 0s - loss: 0.1058 - accuracy: 0.9672\n",
            "Epoch 21: val_loss did not improve from 0.56004\n",
            "21/21 [==============================] - 13s 623ms/step - loss: 0.1058 - accuracy: 0.9672 - val_loss: 1.2026 - val_accuracy: 0.6806\n",
            "Epoch 22/50\n",
            "21/21 [==============================] - ETA: 0s - loss: 0.1333 - accuracy: 0.9522\n",
            "Epoch 22: val_loss did not improve from 0.56004\n",
            "21/21 [==============================] - 13s 627ms/step - loss: 0.1333 - accuracy: 0.9522 - val_loss: 1.4178 - val_accuracy: 0.6389\n",
            "Epoch 23/50\n",
            "21/21 [==============================] - ETA: 0s - loss: 0.1120 - accuracy: 0.9597\n",
            "Epoch 23: val_loss did not improve from 0.56004\n",
            "21/21 [==============================] - 13s 626ms/step - loss: 0.1120 - accuracy: 0.9597 - val_loss: 1.1627 - val_accuracy: 0.7083\n",
            "Epoch 24/50\n",
            "21/21 [==============================] - ETA: 0s - loss: 0.0822 - accuracy: 0.9716\n",
            "Epoch 24: val_loss did not improve from 0.56004\n",
            "21/21 [==============================] - 13s 629ms/step - loss: 0.0822 - accuracy: 0.9716 - val_loss: 0.9505 - val_accuracy: 0.7500\n",
            "Epoch 25/50\n",
            "21/21 [==============================] - ETA: 0s - loss: 0.1303 - accuracy: 0.9537\n",
            "Epoch 25: val_loss did not improve from 0.56004\n",
            "21/21 [==============================] - 14s 634ms/step - loss: 0.1303 - accuracy: 0.9537 - val_loss: 0.9800 - val_accuracy: 0.7361\n",
            "Epoch 26/50\n",
            "21/21 [==============================] - ETA: 0s - loss: 0.1033 - accuracy: 0.9582\n",
            "Epoch 26: val_loss did not improve from 0.56004\n",
            "21/21 [==============================] - 13s 629ms/step - loss: 0.1033 - accuracy: 0.9582 - val_loss: 1.1640 - val_accuracy: 0.6944\n",
            "Epoch 27/50\n",
            "21/21 [==============================] - ETA: 0s - loss: 0.1021 - accuracy: 0.9597\n",
            "Epoch 27: val_loss did not improve from 0.56004\n",
            "21/21 [==============================] - 13s 627ms/step - loss: 0.1021 - accuracy: 0.9597 - val_loss: 0.9335 - val_accuracy: 0.6944\n",
            "Epoch 28/50\n",
            "21/21 [==============================] - ETA: 0s - loss: 0.0840 - accuracy: 0.9731\n",
            "Epoch 28: val_loss did not improve from 0.56004\n",
            "21/21 [==============================] - 13s 623ms/step - loss: 0.0840 - accuracy: 0.9731 - val_loss: 0.6923 - val_accuracy: 0.7917\n",
            "Epoch 29/50\n",
            "21/21 [==============================] - ETA: 0s - loss: 0.0626 - accuracy: 0.9746\n",
            "Epoch 29: val_loss did not improve from 0.56004\n",
            "21/21 [==============================] - 13s 625ms/step - loss: 0.0626 - accuracy: 0.9746 - val_loss: 0.5752 - val_accuracy: 0.8333\n",
            "Epoch 30/50\n",
            "21/21 [==============================] - ETA: 0s - loss: 0.0639 - accuracy: 0.9776\n",
            "Epoch 30: val_loss did not improve from 0.56004\n",
            "21/21 [==============================] - 13s 623ms/step - loss: 0.0639 - accuracy: 0.9776 - val_loss: 0.7104 - val_accuracy: 0.7639\n",
            "Epoch 31/50\n",
            "21/21 [==============================] - ETA: 0s - loss: 0.0766 - accuracy: 0.9746\n",
            "Epoch 31: val_loss improved from 0.56004 to 0.51695, saving model to ./transfer_model.hdf5\n",
            "21/21 [==============================] - 14s 658ms/step - loss: 0.0766 - accuracy: 0.9746 - val_loss: 0.5169 - val_accuracy: 0.8056\n",
            "Epoch 32/50\n",
            "21/21 [==============================] - ETA: 0s - loss: 0.0603 - accuracy: 0.9806\n",
            "Epoch 32: val_loss did not improve from 0.51695\n",
            "21/21 [==============================] - 13s 614ms/step - loss: 0.0603 - accuracy: 0.9806 - val_loss: 1.7503 - val_accuracy: 0.6528\n",
            "Epoch 33/50\n",
            "21/21 [==============================] - ETA: 0s - loss: 0.0523 - accuracy: 0.9896\n",
            "Epoch 33: val_loss did not improve from 0.51695\n",
            "21/21 [==============================] - 13s 620ms/step - loss: 0.0523 - accuracy: 0.9896 - val_loss: 1.0262 - val_accuracy: 0.7361\n",
            "Epoch 34/50\n",
            "21/21 [==============================] - ETA: 0s - loss: 0.0592 - accuracy: 0.9761\n",
            "Epoch 34: val_loss improved from 0.51695 to 0.50072, saving model to ./transfer_model.hdf5\n",
            "21/21 [==============================] - 14s 659ms/step - loss: 0.0592 - accuracy: 0.9761 - val_loss: 0.5007 - val_accuracy: 0.8194\n",
            "Epoch 35/50\n",
            "21/21 [==============================] - ETA: 0s - loss: 0.0504 - accuracy: 0.9836\n",
            "Epoch 35: val_loss did not improve from 0.50072\n",
            "21/21 [==============================] - 13s 621ms/step - loss: 0.0504 - accuracy: 0.9836 - val_loss: 1.2920 - val_accuracy: 0.7083\n",
            "Epoch 36/50\n",
            "21/21 [==============================] - ETA: 0s - loss: 0.0624 - accuracy: 0.9746\n",
            "Epoch 36: val_loss did not improve from 0.50072\n",
            "21/21 [==============================] - 13s 620ms/step - loss: 0.0624 - accuracy: 0.9746 - val_loss: 0.8916 - val_accuracy: 0.7500\n",
            "Epoch 37/50\n",
            "21/21 [==============================] - ETA: 0s - loss: 0.0612 - accuracy: 0.9821\n",
            "Epoch 37: val_loss did not improve from 0.50072\n",
            "21/21 [==============================] - 13s 619ms/step - loss: 0.0612 - accuracy: 0.9821 - val_loss: 1.9505 - val_accuracy: 0.6111\n",
            "Epoch 38/50\n",
            "21/21 [==============================] - ETA: 0s - loss: 0.0545 - accuracy: 0.9806\n",
            "Epoch 38: val_loss did not improve from 0.50072\n",
            "21/21 [==============================] - 13s 626ms/step - loss: 0.0545 - accuracy: 0.9806 - val_loss: 0.6419 - val_accuracy: 0.7778\n",
            "Epoch 39/50\n",
            "21/21 [==============================] - ETA: 0s - loss: 0.0300 - accuracy: 0.9940\n",
            "Epoch 39: val_loss did not improve from 0.50072\n",
            "21/21 [==============================] - 13s 632ms/step - loss: 0.0300 - accuracy: 0.9940 - val_loss: 1.8681 - val_accuracy: 0.6528\n",
            "Epoch 40/50\n",
            "21/21 [==============================] - ETA: 0s - loss: 0.0420 - accuracy: 0.9881\n",
            "Epoch 40: val_loss did not improve from 0.50072\n",
            "21/21 [==============================] - 13s 620ms/step - loss: 0.0420 - accuracy: 0.9881 - val_loss: 0.8679 - val_accuracy: 0.7917\n",
            "Epoch 41/50\n",
            "21/21 [==============================] - ETA: 0s - loss: 0.0379 - accuracy: 0.9881\n",
            "Epoch 41: val_loss did not improve from 0.50072\n",
            "21/21 [==============================] - 13s 621ms/step - loss: 0.0379 - accuracy: 0.9881 - val_loss: 0.5740 - val_accuracy: 0.8333\n",
            "Epoch 42/50\n",
            "21/21 [==============================] - ETA: 0s - loss: 0.0395 - accuracy: 0.9881\n",
            "Epoch 42: val_loss did not improve from 0.50072\n",
            "21/21 [==============================] - 13s 626ms/step - loss: 0.0395 - accuracy: 0.9881 - val_loss: 1.1442 - val_accuracy: 0.7361\n",
            "Epoch 43/50\n",
            "21/21 [==============================] - ETA: 0s - loss: 0.0443 - accuracy: 0.9896\n",
            "Epoch 43: val_loss did not improve from 0.50072\n",
            "21/21 [==============================] - 13s 626ms/step - loss: 0.0443 - accuracy: 0.9896 - val_loss: 2.1859 - val_accuracy: 0.6528\n",
            "Epoch 44/50\n",
            "21/21 [==============================] - ETA: 0s - loss: 0.0709 - accuracy: 0.9746\n",
            "Epoch 44: val_loss did not improve from 0.50072\n",
            "21/21 [==============================] - 13s 629ms/step - loss: 0.0709 - accuracy: 0.9746 - val_loss: 0.8927 - val_accuracy: 0.7917\n",
            "Epoch 45/50\n",
            "21/21 [==============================] - ETA: 0s - loss: 0.0652 - accuracy: 0.9776\n",
            "Epoch 45: val_loss did not improve from 0.50072\n",
            "21/21 [==============================] - 13s 629ms/step - loss: 0.0652 - accuracy: 0.9776 - val_loss: 2.8695 - val_accuracy: 0.5139\n",
            "Epoch 46/50\n",
            "21/21 [==============================] - ETA: 0s - loss: 0.0539 - accuracy: 0.9821\n",
            "Epoch 46: val_loss did not improve from 0.50072\n",
            "21/21 [==============================] - 13s 624ms/step - loss: 0.0539 - accuracy: 0.9821 - val_loss: 0.7488 - val_accuracy: 0.8056\n",
            "Epoch 47/50\n",
            "21/21 [==============================] - ETA: 0s - loss: 0.0571 - accuracy: 0.9746\n",
            "Epoch 47: val_loss did not improve from 0.50072\n",
            "21/21 [==============================] - 13s 629ms/step - loss: 0.0571 - accuracy: 0.9746 - val_loss: 1.1592 - val_accuracy: 0.6667\n",
            "Epoch 48/50\n",
            "21/21 [==============================] - ETA: 0s - loss: 0.0480 - accuracy: 0.9776\n",
            "Epoch 48: val_loss did not improve from 0.50072\n",
            "21/21 [==============================] - 13s 629ms/step - loss: 0.0480 - accuracy: 0.9776 - val_loss: 1.3863 - val_accuracy: 0.7222\n",
            "Epoch 49/50\n",
            "21/21 [==============================] - ETA: 0s - loss: 0.0628 - accuracy: 0.9776\n",
            "Epoch 49: val_loss did not improve from 0.50072\n",
            "21/21 [==============================] - 13s 630ms/step - loss: 0.0628 - accuracy: 0.9776 - val_loss: 1.0525 - val_accuracy: 0.7639\n",
            "Epoch 50/50\n",
            "21/21 [==============================] - ETA: 0s - loss: 0.0491 - accuracy: 0.9761\n",
            "Epoch 50: val_loss did not improve from 0.50072\n",
            "21/21 [==============================] - 13s 628ms/step - loss: 0.0491 - accuracy: 0.9761 - val_loss: 0.7432 - val_accuracy: 0.7917\n"
          ]
        }
      ]
    },
    {
      "cell_type": "code",
      "source": [],
      "metadata": {
        "id": "iU2a6HdVxsCc"
      },
      "execution_count": null,
      "outputs": []
    },
    {
      "cell_type": "code",
      "source": [
        "resnet = ResNet50(input_shape=(224,224,3),include_top = False, weights = \"imagenet\")\n",
        "\n",
        "for layers in resnet.layers:\n",
        "        layers.trainable = False"
      ],
      "metadata": {
        "id": "xQgfzd56ic6f"
      },
      "execution_count": null,
      "outputs": []
    },
    {
      "cell_type": "code",
      "source": [
        "res_model = Flatten()(resnet.output)\n",
        "res_model = Dense(1024, activation=\"relu\")(res_model)\n",
        "res_model = Dense(1, activation=\"sigmoid\")(res_model)\n",
        "\n",
        "model_resnet = Model(resnet.input, res_model)\n",
        "\n",
        "model_resnet.compile(optimizer = RMSprop(learning_rate = 0.0001),\n",
        "                   loss = \"binary_crossentropy\",\n",
        "                   metrics=['acc'])"
      ],
      "metadata": {
        "id": "JGOvIEjEjtGG"
      },
      "execution_count": null,
      "outputs": []
    },
    {
      "cell_type": "code",
      "source": [
        "resnet_fit = model_resnet.fit(train_gen, validation_data = valid_gen,\n",
        "                              steps_per_epoch = 670,\n",
        "                              validation_steps = 285,\n",
        "                              verbose = 1, epochs = 50)"
      ],
      "metadata": {
        "colab": {
          "base_uri": "https://localhost:8080/"
        },
        "id": "7_7jFP3Annxg",
        "outputId": "fc7cff61-d3e7-4432-b883-d5d642df9787"
      },
      "execution_count": null,
      "outputs": [
        {
          "output_type": "stream",
          "name": "stdout",
          "text": [
            "Epoch 1/50\n",
            "133/670 [====>.........................] - ETA: 24s - loss: -61275.4062 - acc: 0.2030"
          ]
        },
        {
          "output_type": "stream",
          "name": "stderr",
          "text": [
            "WARNING:tensorflow:Your input ran out of data; interrupting training. Make sure that your dataset or generator can generate at least `steps_per_epoch * epochs` batches (in this case, 33500 batches). You may need to use the repeat() function when building your dataset.\n",
            "WARNING:tensorflow:Your input ran out of data; interrupting training. Make sure that your dataset or generator can generate at least `steps_per_epoch * epochs` batches (in this case, 285 batches). You may need to use the repeat() function when building your dataset.\n"
          ]
        },
        {
          "output_type": "stream",
          "name": "stdout",
          "text": [
            "\b\b\b\b\b\b\b\b\b\b\b\b\b\b\b\b\b\b\b\b\b\b\b\b\b\b\b\b\b\b\b\b\b\b\b\b\b\b\b\b\b\b\b\b\b\b\b\b\b\b\b\b\b\b\b\b\b\b\b\b\b\b\b\b\b\b\b\b\b\b\b\b\b\b\b\b\b\b\b\b\b\b\b\b\b\r670/670 [==============================] - 9s 13ms/step - loss: -61274.3711 - acc: 0.2030 - val_loss: -43145.8398 - val_acc: 0.1789\n"
          ]
        }
      ]
    },
    {
      "cell_type": "code",
      "source": [
        "BATCH_SIZE = 32\n",
        "EPOCHS = 100\n",
        "SEED = 49\n",
        "H = 300 #Height\n",
        "W = 400 #Width\n",
        "IMAGE_SHAPE = (460,460,3)\n",
        "N_CLASSES = 4\n",
        "STEPS = 5"
      ],
      "metadata": {
        "id": "iV1tD0Pau7wq"
      },
      "execution_count": null,
      "outputs": []
    },
    {
      "cell_type": "code",
      "execution_count": null,
      "metadata": {
        "colab": {
          "base_uri": "https://localhost:8080/"
        },
        "id": "4H8FWXHd6ZRj",
        "outputId": "e197ff0f-07aa-4cb9-94fd-5d65d2ce6a68"
      },
      "outputs": [
        {
          "output_type": "stream",
          "name": "stdout",
          "text": [
            "Model: \"sequential_1\"\n",
            "_________________________________________________________________\n",
            " Layer (type)                Output Shape              Param #   \n",
            "=================================================================\n",
            " conv2d_7 (Conv2D)           (None, 256, 256, 64)      4864      \n",
            "                                                                 \n",
            " conv2d_8 (Conv2D)           (None, 256, 256, 128)     73856     \n",
            "                                                                 \n",
            " max_pooling2d_5 (MaxPooling  (None, 128, 128, 128)    0         \n",
            " 2D)                                                             \n",
            "                                                                 \n",
            " conv2d_9 (Conv2D)           (None, 126, 126, 256)     295168    \n",
            "                                                                 \n",
            " max_pooling2d_6 (MaxPooling  (None, 63, 63, 256)      0         \n",
            " 2D)                                                             \n",
            "                                                                 \n",
            " conv2d_10 (Conv2D)          (None, 61, 61, 128)       295040    \n",
            "                                                                 \n",
            " max_pooling2d_7 (MaxPooling  (None, 30, 30, 128)      0         \n",
            " 2D)                                                             \n",
            "                                                                 \n",
            " conv2d_11 (Conv2D)          (None, 28, 28, 256)       295168    \n",
            "                                                                 \n",
            " max_pooling2d_8 (MaxPooling  (None, 14, 14, 256)      0         \n",
            " 2D)                                                             \n",
            "                                                                 \n",
            " conv2d_12 (Conv2D)          (None, 12, 12, 128)       295040    \n",
            "                                                                 \n",
            " max_pooling2d_9 (MaxPooling  (None, 6, 6, 128)        0         \n",
            " 2D)                                                             \n",
            "                                                                 \n",
            " conv2d_13 (Conv2D)          (None, 4, 4, 64)          73792     \n",
            "                                                                 \n",
            " flatten_1 (Flatten)         (None, 1024)              0         \n",
            "                                                                 \n",
            " dense_2 (Dense)             (None, 16)                16400     \n",
            "                                                                 \n",
            " dense_3 (Dense)             (None, 1)                 17        \n",
            "                                                                 \n",
            "=================================================================\n",
            "Total params: 1,349,345\n",
            "Trainable params: 1,349,345\n",
            "Non-trainable params: 0\n",
            "_________________________________________________________________\n"
          ]
        }
      ],
      "source": [
        "model1.summary()"
      ]
    },
    {
      "cell_type": "code",
      "execution_count": null,
      "metadata": {
        "id": "nFAJGE4w6cRb"
      },
      "outputs": [],
      "source": [
        "\n",
        "model1.compile(loss = 'binary_crossentropy',\n",
        "             optimizer = 'Adam',\n",
        "             metrics = ['accuracy'])"
      ]
    },
    {
      "cell_type": "code",
      "execution_count": null,
      "metadata": {
        "id": "DPZJssvd6nlU"
      },
      "outputs": [],
      "source": [
        "early_stopping=tf.keras.callbacks.EarlyStopping(monitor=\"val_accuracy\",patience=6)"
      ]
    },
    {
      "cell_type": "code",
      "execution_count": null,
      "metadata": {
        "colab": {
          "base_uri": "https://localhost:8080/"
        },
        "id": "1hwGKxyE6pq2",
        "outputId": "77437427-33f8-438e-b7b4-fbdc37fc1906"
      },
      "outputs": [
        {
          "output_type": "stream",
          "name": "stdout",
          "text": [
            "Epoch 1/40\n",
            "20/20 [==============================] - 628s 31s/step - loss: -748929.2500 - accuracy: 0.1817 - val_loss: -7545811.0000 - val_accuracy: 0.1729\n",
            "Epoch 2/40\n",
            "20/20 [==============================] - 10s 506ms/step - loss: -2024244096.0000 - accuracy: 0.1817 - val_loss: -13798552576.0000 - val_accuracy: 0.1729\n",
            "Epoch 3/40\n",
            "20/20 [==============================] - 10s 509ms/step - loss: -504901337088.0000 - accuracy: 0.1817 - val_loss: -1773193920512.0000 - val_accuracy: 0.1729\n",
            "Epoch 4/40\n",
            "20/20 [==============================] - 10s 497ms/step - loss: -20752344547328.0000 - accuracy: 0.1817 - val_loss: -67534808154112.0000 - val_accuracy: 0.1729\n",
            "Epoch 5/40\n",
            "20/20 [==============================] - 11s 527ms/step - loss: -432238831337472.0000 - accuracy: 0.1817 - val_loss: -1135819133812736.0000 - val_accuracy: 0.1729\n",
            "Epoch 6/40\n",
            "20/20 [==============================] - 10s 514ms/step - loss: -5635907088547840.0000 - accuracy: 0.1817 - val_loss: -13093565357883392.0000 - val_accuracy: 0.1729\n",
            "Epoch 7/40\n",
            "20/20 [==============================] - 10s 514ms/step - loss: -44576391823360000.0000 - accuracy: 0.1817 - val_loss: -92642083797467136.0000 - val_accuracy: 0.1729\n"
          ]
        }
      ],
      "source": [
        "model1_fit = model1.fit(train_gen,\n",
        "                     epochs = 40,\n",
        "                     verbose = 1,\n",
        "                     validation_data = valid_gen,\n",
        "                      callbacks = early_stopping)\n"
      ]
    },
    {
      "cell_type": "code",
      "source": [
        "model1.save('caries_model1.h5')"
      ],
      "metadata": {
        "id": "NxLp6ZfUZRKI"
      },
      "execution_count": null,
      "outputs": []
    },
    {
      "cell_type": "code",
      "source": [
        "from google.colab import drive\n",
        "drive.mount('/content/drive')"
      ],
      "metadata": {
        "id": "xl2mtLS7bYYF",
        "colab": {
          "base_uri": "https://localhost:8080/"
        },
        "outputId": "d63f62b5-b971-4d04-d8d1-3eeda5d032b8"
      },
      "execution_count": null,
      "outputs": [
        {
          "output_type": "stream",
          "name": "stdout",
          "text": [
            "Drive already mounted at /content/drive; to attempt to forcibly remount, call drive.mount(\"/content/drive\", force_remount=True).\n"
          ]
        }
      ]
    },
    {
      "cell_type": "code",
      "source": [
        "test_model = models.load_model('/content/caries_model1.h5')"
      ],
      "metadata": {
        "id": "Q_lBoDaTajy9"
      },
      "execution_count": null,
      "outputs": []
    },
    {
      "cell_type": "code",
      "source": [
        "test_data_gen = ImageDataGenerator(rescale=1/255)\n",
        "\n",
        "test_gen = test_data_gen.flow_from_directory(\n",
        "    '/content/drive/MyDrive/Datasets/Chest_CTscan/test',\n",
        "    target_size = (256,256),\n",
        "    batch_size = 4,\n",
        "    class_mode = 'binary'\n",
        ")"
      ],
      "metadata": {
        "colab": {
          "base_uri": "https://localhost:8080/"
        },
        "id": "BjdFHM2TawZk",
        "outputId": "1f5d4045-46fa-4472-d724-dc756b085a63"
      },
      "execution_count": null,
      "outputs": [
        {
          "output_type": "stream",
          "name": "stdout",
          "text": [
            "Found 72 images belonging to 4 classes.\n"
          ]
        }
      ]
    },
    {
      "cell_type": "code",
      "source": [
        "score = test_model.evaluate(test_gen, verbose=1)"
      ],
      "metadata": {
        "colab": {
          "base_uri": "https://localhost:8080/"
        },
        "id": "g3OMBgA1bI83",
        "outputId": "025a5c4b-c36e-493a-fa45-852f528d628a"
      },
      "execution_count": null,
      "outputs": [
        {
          "output_type": "stream",
          "name": "stdout",
          "text": [
            "12/12 [==============================] - 1s 49ms/step - loss: 0.4742 - accuracy: 0.9167\n"
          ]
        }
      ]
    }
  ],
  "metadata": {
    "colab": {
      "provenance": []
    },
    "gpuClass": "standard",
    "kernelspec": {
      "display_name": "Python 3",
      "name": "python3"
    },
    "language_info": {
      "name": "python"
    },
    "accelerator": "GPU"
  },
  "nbformat": 4,
  "nbformat_minor": 0
}